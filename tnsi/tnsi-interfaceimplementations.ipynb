{
 "cells": [
  {
   "cell_type": "markdown",
   "metadata": {},
   "source": [
    "# Interface et implémentation d'un type abstrait de données\n",
    "\n",
    "### Vocabulaire :\n",
    "\n",
    "En informatique, quand on veut définir un nouveau type de données, on a l'habitude de distinguer l'**interface** de ce type de données avec son **implémentation**.\n",
    "\n",
    "**L'interface** d'un type de données est un *texte* qui spécifie la nature des données ainsi que l'ensemble des opérations permises sur ces données. Elle est la partie visible pour celui qui veut utiliser ce type de données.\n",
    "\n",
    "**L'implémentation** d'un type de données est le *code* qui permet de « faire fonctionner » ce type de données dans nos programmes. Celui qui va utiliser un type de données ne connaît en général pas les détails de l'implémentation choisie et s'en moque : la connaissance de l'interface lui suffit.\n",
    "\n",
    ">En Python, nous avons beaucoup utilisé le type prédéfini *list* dans nos scripts. Nous ne savons absolument pas comment il est implémenté : le code est-il écrit en Python ou en C ? Quel algorithme de tri est utilisé dans la méthode sort ? Combien d'octets sont utilisés en mémoire quand on défini une liste vide ? Peu nous importe !\n",
    ">\n",
    ">En revanche, nous avons pris la peine de nous familiariser avec l'interface du type *list* en parcourant la documentation officielle Python. Nous savons par exemple comment ajouter un nouvel élément à une liste grâce à la méthode *append()* sans du tout savoir comment celle-ci a été programmée.\n",
    "\n",
    "Définir un **Type Abstrait de Données (TAD)** c'est préciser l'interface de ce type sans se préoccuper des détails d'implémentation. Dans ce chapitre et ceux qui suivent, nous allons découvrir un certain nombre de TAD très classiques : Listes, Piles, Files, Arbres, Arbres binaires, Graphes,...\n",
    "\n",
    "Et comme le dit Linus Torvalds, le créateur de Linux : « Les mauvais programmeurs se soucient du code. Les bons programmeurs se soucient des structures de données et de leurs relations. » "
   ]
  },
  {
   "cell_type": "markdown",
   "metadata": {},
   "source": [
    "# Exemple : Création d'un nouveau type de donnée\n",
    "\n",
    "On aimerait définir un nouveau type de données appelé `Rationnel` correspondant à l'ensemble des quotients d'entiers. Voici les opérations que l'on souhaite effectuer sur les rationnels :\n",
    "\n",
    "- Créer un rationnel\n",
    "- Accéder au numérateur et au dénominateur d'un rationnel\n",
    "- Ajouter, soustraire, multiplier, diviser deux rationnels\n",
    "- Vérifier si deux rationnels sont égaux ou non\n",
    "\n",
    "### Interface :\n",
    "\n",
    "Pour cela, on spécifie l'ensemble des opérations souhaitées en proposant l'interface suivante :\n",
    "\n",
    "- `creerRationnel(n, d)` : crée un élément de type `Rationnel` à partir de deux entiers `n` (numérateur) et `d` (dénominateur). *Précondition* : $d\\neq 0$. \n",
    "- `numerateur(r)` : accès au numérateur du rationnel `r` (renvoie un entier)\n",
    "- `denominateur(r)` : accès au dénominateur du rationnel `r` (renvoie un entier non nul)\n",
    "- `ajouter(r1, r2)` : renvoie un nouveau rationnel correspondant à la somme des rationnels `r1` et `r2`\n",
    "- `soustraire(r1, r2)` : renvoie un nouveau rationnel correspondant à la différence des rationnels `r1` et `r2` (`r1` -`r2`)\n",
    "- `multiplier(r1, r2)` : renvoie un nouveau rationnel correspondant au produit des rationnels `r1` et `r2`\n",
    "- `diviser(r1, r2)` : renvoie un nouveau rationnel correspondant au quotient des rationnels `r1` et `r2`\n",
    "- `egal(r1, r2)` : renvoie Vrai si les deux rationnels `r1` et `r2` sont égaux, Faux sinon.\n",
    "- `afficher(r)` : affiche le rationnel irréductible `r` sous la forme d'une chaîne de caractères `'n/d'`.\n",
    "\n",
    "### Exemple d'utilisation :\n",
    "\n",
    "```Python\n",
    "r1 = creerRationnel(2, 4)\n",
    "afficher(r1)                    # 1/2\n",
    "r2 = creerRationnel(1, 6)\n",
    "afficher(r2)                    # 1/6\n",
    "r = ajouter(r1, r2)\n",
    "afficher (r)                    # 1/2 + 1/6 = 2/3\n",
    "egal(r, creerRationnel(4, 6))   # True puisque 1/2 + 1/6 = 2/3\n",
    "```\n",
    "\n",
    "### Première implémentation à base de tuples :\n",
    "\n",
    "On peut choisir d'implémenter cette interface en utilisant des tuples Python. On choisira de simplifier les rationnels dès que possible.\n",
    "\n",
    "Codons ci-dessous quelques unes des fonctions nécessaires :"
   ]
  },
  {
   "cell_type": "code",
   "execution_count": null,
   "metadata": {},
   "outputs": [],
   "source": [
    "from math import gcd\n",
    "\n",
    "def creerRationnel(n, d):\n",
    "    \"\"\"Entier x Entier --> Rationnel\"\"\"\n",
    "    # simplification du rationnel en divisant n et d par leur pgcd\n",
    "    pgcd = gcd(n,d)\n",
    "    # renvoie le rationnel simplifié\n",
    "    return (n//pgcd, d//pgcd)\n",
    "\n",
    "def ajouter(r1, r2):\n",
    "    \"\"\"Rationnel x Rationnel --> Rationnel\"\"\"\n",
    "    # calculs du numérateur et du dénominateurs en procédant à une réduction au même dénominateur\n",
    "    pass\n",
    "    # simplification du rationnel en divisant le numérateur et le dénominateur par leur pgcd\n",
    "    pass\n",
    "\n",
    "def egal(r1, r2):\n",
    "    \"\"\"Rationnel x Rationnel --> Booléen\"\"\"\n",
    "    # deux fractions sont égales lorsqu'elles ont le même numérateur et le même dénominateur\n",
    "    pass\n",
    "\n",
    "def afficher(r):\n",
    "    \"\"\"Rationnel --> str\"\"\"\n",
    "    print(f\"{r[0]}/{r[1]})"
   ]
  },
  {
   "cell_type": "markdown",
   "metadata": {},
   "source": [
    "On peut alors tester notre implémentation en vérifiant que les instructions précédentes donnent des résultats corrects."
   ]
  },
  {
   "cell_type": "code",
   "execution_count": null,
   "metadata": {},
   "outputs": [],
   "source": [
    "r1 = creerRationnel(2, 4)\n",
    "afficher(r1)                    # 1/2\n",
    "r2 = creerRationnel(1, 6)\n",
    "afficher(r2)                    # 1/6\n",
    "r = ajouter(r1, r2)\n",
    "afficher(r)                     # 1/2 + 1/6 = 2/3\n",
    "egal(r, creerRationnel(4, 6))   # True puisque 1/2 + 1/6 = 2/3"
   ]
  },
  {
   "cell_type": "markdown",
   "metadata": {},
   "source": [
    "### Deuxième implémentation en utilisant des dictionnaires\n",
    "\n",
    "Imaginons que le programmeur qui a implémenté le type abstrait `Rationnel` ait fait des choix différents :\n",
    "- il a utilisé des dictionnaires pour représenter les rationnels\n",
    "- il a choisi de ne pas simplifier les fractions au fur et à mesure des calculs"
   ]
  },
  {
   "cell_type": "code",
   "execution_count": null,
   "metadata": {},
   "outputs": [],
   "source": [
    "from math import gcd\n",
    "\n",
    "def creerRationnel(n, d):\n",
    "    \"\"\"Entier x Entier --> Rationnel\"\"\"\n",
    "    # pas de simplification !\n",
    "    return {\"num\": n, \"den\": d}\n",
    "\n",
    "def ajouter(r1, r2):\n",
    "    \"\"\"Rationnel x Rationnel --> Rationnel\"\"\"\n",
    "    # calculs du numérateur et du dénominateurs en procédant à une réduction au même dénominateur\n",
    "    pass\n",
    "    # pas de simplification !\n",
    "    pass\n",
    "\n",
    "def egal(r1, r2):\n",
    "    \"\"\"Rationnel x Rationnel --> Booléen\"\"\"\n",
    "    # deux fractions sont égales lorsqu'il y a égalité des produits en croix\n",
    "    pass\n",
    "\n",
    "def afficher(r):\n",
    "    \"\"\"Rationnel --> str\"\"\"\n",
    "    print(str(r[\"num\"]) + \"/\" + str(r[\"den\"]))"
   ]
  },
  {
   "cell_type": "markdown",
   "metadata": {},
   "source": [
    "On peut vérifier que l'on peut écrire exactement les mêmes instructions que précédemment et obtenir exactement les mêmes résultats, alors même que l'implémentation est totalement différente."
   ]
  },
  {
   "cell_type": "code",
   "execution_count": null,
   "metadata": {},
   "outputs": [],
   "source": [
    "r1 = creerRationnel(2, 4)\n",
    "afficher(r1)                    # 1/2\n",
    "r2 = creerRationnel(1, 6)\n",
    "afficher(r2)                    # 1/6\n",
    "r = ajouter(r1, r2)\n",
    "afficher(r)                     # 1/2 + 1/6 = 2/3\n",
    "egal(r, creerRationnel(4, 6))   # True puisque 1/2 + 1/6 = 2/3"
   ]
  },
  {
   "cell_type": "markdown",
   "metadata": {},
   "source": [
    "### Troisième implémentation en utilisant la programmation orientée objet"
   ]
  },
  {
   "cell_type": "code",
   "execution_count": null,
   "metadata": {},
   "outputs": [],
   "source": [
    "from math import gcd\n",
    "\n",
    "class creerRationnel():\n",
    "    def __init__(self, num, dénom):\n",
    "        pgcd = gcd(num,dénom)\n",
    "        self.numérateur = num//pgcd\n",
    "        self.dénominateur = dénom//pgcd\n",
    "    \n",
    "    def __add__(self, other):\n",
    "        num = self.numérateur * other.dénominateur + self.dénominateur * other.numérateur\n",
    "        dénom = self.dénominateur * other.dénominateur\n",
    "        pgcd = gcd(num, dénom)\n",
    "        return creerRationnel(num//pgcd, dénom//pgcd)\n",
    "    \n",
    "    def __eq__(self, other):\n",
    "        return (self.numérateur == other.numérateur) and (self.dénominateur == other.dénominateur)\n",
    "\n",
    "    def __repr__(self):\n",
    "        return f\"{self.numérateur}/{self.dénominateur}\"\n",
    "\n",
    "def ajouter(r1, r2):\n",
    "    \"\"\"Rationnel x Rationnel --> Rationnel\"\"\"\n",
    "    pass\n",
    "\n",
    "def egal(r1, r2):\n",
    "    \"\"\"Rationnel x Rationnel --> Booléen\"\"\"\n",
    "    pass\n",
    "\n",
    "def afficher(r):\n",
    "    \"\"\"Rationnel --> str\"\"\"\n",
    "    pass"
   ]
  },
  {
   "cell_type": "markdown",
   "metadata": {},
   "source": [
    "A nouveau, on vérifie que les mêmes instructions produisent les mêmes effets."
   ]
  },
  {
   "cell_type": "code",
   "execution_count": null,
   "metadata": {},
   "outputs": [],
   "source": [
    "r1 = creerRationnel(2, 4)\n",
    "afficher(r1)                    # 1/2\n",
    "r2 = creerRationnel(1, 6)\n",
    "afficher(r2)                    # 1/6\n",
    "r = ajouter(r1, r2)\n",
    "afficher(r)                     # 1/2 + 1/6 = 2/3\n",
    "egal(r, creerRationnel(4, 6))   # True puisque 1/2 + 1/6 = 2/3"
   ]
  },
  {
   "cell_type": "markdown",
   "metadata": {},
   "source": [
    "### Bilan\n",
    "Le programmeur qui utilise une structure de données fait *abstraction* à la fois :\n",
    "- de la manière dont les données sont représentées (ex. : que les données soient représentées par des couples, des dictionnaires ou autre chose, l'écriture des instructions et les résultats sont les mêmes)\n",
    "- de la manière dont les opérations sont programmées (ex. : le test d'égalité ne suit pas la même logique selon les deux implémentations mais le résultat est le même).  \n",
    "<br><br>\n",
    "*Ce notebook est inspiré du travail de Germain BECKER : https://info-mounier.fr/terminale_nsi/structures_donnees/interface_implementations.php*. &nbsp; Merci à lui !"
   ]
  }
 ],
 "metadata": {
  "kernelspec": {
   "display_name": "Python 3 (ipykernel)",
   "language": "python",
   "name": "python3"
  },
  "language_info": {
   "codemirror_mode": {
    "name": "ipython",
    "version": 3
   },
   "file_extension": ".py",
   "mimetype": "text/x-python",
   "name": "python",
   "nbconvert_exporter": "python",
   "pygments_lexer": "ipython3",
   "version": "3.10.12"
  }
 },
 "nbformat": 4,
 "nbformat_minor": 4
}
