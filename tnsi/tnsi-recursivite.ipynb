{
 "cells": [
  {
   "cell_type": "markdown",
   "metadata": {},
   "source": [
    "# Exercices sur la récursivité\n",
    "\n",
    "---\n",
    "### Exercice 1\n",
    "Soit f la fonction définie ci-dessous.<br>\n",
    "Sur une feuille de brouillon, représenter l'arbre des appels récursifs permettant de déterminer f(3,5).\n",
    "\n",
    "En déduire f(3,5) :"
   ]
  },
  {
   "cell_type": "raw",
   "metadata": {},
   "source": []
  },
  {
   "cell_type": "markdown",
   "metadata": {},
   "source": [
    "Vérifier en \"exécutant\" la cellule ci-dessous"
   ]
  },
  {
   "cell_type": "code",
   "execution_count": null,
   "metadata": {},
   "outputs": [],
   "source": [
    "def f(a,b):\n",
    "    \"\"\" a et b sont deux entiers naturels non nuls . \"\"\"\n",
    "    if b==1:\n",
    "        return a\n",
    "    else:\n",
    "        return a+f(a,b-1)\n",
    "\n",
    "print(f(3,5))"
   ]
  },
  {
   "cell_type": "markdown",
   "metadata": {},
   "source": [
    "Les nombres a et b étant deux entiers naturels non nuls quelconques, que calcule f(a,b) ?"
   ]
  },
  {
   "cell_type": "raw",
   "metadata": {},
   "source": []
  },
  {
   "cell_type": "markdown",
   "metadata": {},
   "source": [
    "Dans cette fonction récursive, quel est le cas de base ? (cas d'arrêt)"
   ]
  },
  {
   "cell_type": "raw",
   "metadata": {},
   "source": []
  },
  {
   "cell_type": "markdown",
   "metadata": {},
   "source": [
    "Qu’est ce qui garantit dans les appels récursifs que le programme finira par s’arrêter ?"
   ]
  },
  {
   "cell_type": "raw",
   "metadata": {},
   "source": []
  },
  {
   "cell_type": "markdown",
   "metadata": {},
   "source": [
    "---\n",
    "### Exercice 2\n",
    "Soit g la fonction définie ci-dessous.<br>\n",
    "Sur une feuille de brouillon, représenter l'arbre des appels récursifs permettant de déterminer g([3,5,3,3,2]).\n",
    "\n",
    "En déduire g([3,5,3,3,2]) :"
   ]
  },
  {
   "cell_type": "raw",
   "metadata": {},
   "source": []
  },
  {
   "cell_type": "markdown",
   "metadata": {},
   "source": [
    "Vérifier en \"exécutant\" la cellule ci-dessous"
   ]
  },
  {
   "cell_type": "code",
   "execution_count": null,
   "metadata": {},
   "outputs": [],
   "source": [
    "def g(L1,L2=[]):\n",
    "    if L1 == []:\n",
    "        return L2\n",
    "    else:\n",
    "        s = L1.pop(0)\n",
    "        if s not in L2:\n",
    "            L2.append(s)\n",
    "        return g(L1,L2)\n",
    "\n",
    "Liste = [3,5,3,3,2]\n",
    "print(g(Liste))"
   ]
  },
  {
   "cell_type": "markdown",
   "metadata": {},
   "source": [
    "L1 étant une liste quelconque de nombres, que renvoie g(L1) ?"
   ]
  },
  {
   "cell_type": "raw",
   "metadata": {},
   "source": []
  },
  {
   "cell_type": "markdown",
   "metadata": {},
   "source": [
    "Dans cette fonction récursive, quel est le cas de base ? (cas d'arrêt)"
   ]
  },
  {
   "cell_type": "raw",
   "metadata": {},
   "source": []
  },
  {
   "cell_type": "markdown",
   "metadata": {},
   "source": [
    "Qu’est ce qui garantit dans les appels récursifs que le programme finira par s’arrêter ?"
   ]
  },
  {
   "cell_type": "raw",
   "metadata": {},
   "source": []
  },
  {
   "cell_type": "markdown",
   "metadata": {},
   "source": [
    "---\n",
    "### Exercice 3\n",
    "La fonction `somme` ci-dessous est-elle récursive ou itérative ?"
   ]
  },
  {
   "cell_type": "raw",
   "metadata": {},
   "source": []
  },
  {
   "cell_type": "code",
   "execution_count": null,
   "metadata": {},
   "outputs": [],
   "source": [
    "def somme(L):\n",
    "    s = 0\n",
    "    for val in L:\n",
    "        s += val\n",
    "    return s\n",
    "\n",
    "assert somme([2,6,4,-5])==7\n",
    "assert somme([0,1,2,3])==6"
   ]
  },
  {
   "cell_type": "markdown",
   "metadata": {},
   "source": [
    "Compléter la fonction **récursive** ci-dessous :"
   ]
  },
  {
   "cell_type": "code",
   "execution_count": null,
   "metadata": {},
   "outputs": [],
   "source": [
    "def somme_rec(L):\n",
    "    pass\n",
    "\n",
    "assert somme_rec([2,6,4,-5])==7\n",
    "assert somme_rec([0,1,2,3])==6"
   ]
  },
  {
   "cell_type": "markdown",
   "metadata": {},
   "source": [
    "---\n",
    "### Exercice 4\n",
    "Compléter la fonction récursive `bonjour(n)` qui renvoie n fois le message \"Bonjour !&nbsp;\""
   ]
  },
  {
   "cell_type": "code",
   "execution_count": null,
   "metadata": {},
   "outputs": [],
   "source": [
    "def bonjour(n):\n",
    "    pass\n",
    "\n",
    "assert bonjour(3)==\"Bonjour ! Bonjour ! Bonjour ! \""
   ]
  },
  {
   "cell_type": "markdown",
   "metadata": {},
   "source": [
    "---\n",
    "### Exercice 5\n",
    "Compléter la fonction récursive `somme(n)` qui renvoie la somme des entiers de 1 à n"
   ]
  },
  {
   "cell_type": "code",
   "execution_count": null,
   "metadata": {},
   "outputs": [],
   "source": [
    "def somme(n):\n",
    "    pass\n",
    "\n",
    "assert somme(5)==1+2+3+4+5"
   ]
  },
  {
   "cell_type": "markdown",
   "metadata": {},
   "source": [
    "---\n",
    "### Exercice 6\n",
    "Compléter la fonction récursive `longueur_str(s)` qui renvoie la longueur de la chaîne de caractères `s`. On pourra utiliser des slices."
   ]
  },
  {
   "cell_type": "code",
   "execution_count": null,
   "metadata": {},
   "outputs": [],
   "source": [
    "def longueur_str(s):\n",
    "    pass\n",
    "\n",
    "assert longueur_str(\"abcdef\")==6"
   ]
  },
  {
   "cell_type": "markdown",
   "metadata": {},
   "source": [
    "---\n",
    "### Exercice 7\n",
    "Compléter la fonction récursive `longueur_int(n)` qui renvoie le nombre de chiffres de l'entier naturel `n`.\n",
    "On pourra enchaîner des divisions entières par 10."
   ]
  },
  {
   "cell_type": "code",
   "execution_count": null,
   "metadata": {},
   "outputs": [],
   "source": [
    "def longueur_int(n):\n",
    "    pass\n",
    "\n",
    "assert longueur_int(12340)==5"
   ]
  },
  {
   "cell_type": "markdown",
   "metadata": {},
   "source": [
    "---\n",
    "### Exercice 8\n",
    "Un mot est un palindrome s'il reste le même, qu'on le lise de gauche à droite ou de droite à gauche.\n",
    "Par exemple KAYAK et EVE sont des palindromes.\n",
    "Compléter la fonction récursive `palindrome(mot)` qui renvoie `True` ou `False` selon que `mot` est un palindrome ou non."
   ]
  },
  {
   "cell_type": "code",
   "execution_count": null,
   "metadata": {},
   "outputs": [],
   "source": [
    "def palindrome(mot):\n",
    "    pass\n",
    "\n",
    "assert palindrome(\"KAYAK\")\n",
    "assert palindrome(\"EVE\")\n",
    "assert not palindrome(\"PAPA\")"
   ]
  },
  {
   "cell_type": "markdown",
   "metadata": {},
   "source": [
    "---\n",
    "### Exercice 9\n",
    "Compléter la fonction récursive `retourne(mot)` qui renvoie `mot` écrit à l'envers."
   ]
  },
  {
   "cell_type": "code",
   "execution_count": null,
   "metadata": {},
   "outputs": [],
   "source": [
    "def retourne(mot):\n",
    "    pass\n",
    "\n",
    "assert retourne('robert')=='trebor'"
   ]
  },
  {
   "cell_type": "markdown",
   "metadata": {},
   "source": [
    "---\n",
    "### Exercice 10\n",
    "Soit $n$ un entier naturel : $n$ est pair si $n-1$ est impair, $n$ est impair si $n-1$ est pair.\n",
    "\n",
    "Compléter les deux fonctions récursives mutuelles `pair(n)` et `impair(n)` renvoyant `True` ou `False` selon que l'entier naturel `n` est pair ou impair."
   ]
  },
  {
   "cell_type": "code",
   "execution_count": null,
   "metadata": {},
   "outputs": [],
   "source": [
    "def pair(n):\n",
    "    pass\n",
    "\n",
    "def impair(n):\n",
    "    pass\n",
    "\n",
    "assert impair(5)\n",
    "assert not pair(5)\n",
    "assert pair(12)\n",
    "assert not impair(12)"
   ]
  },
  {
   "cell_type": "markdown",
   "metadata": {},
   "source": [
    "---\n",
    "### Exercice 11 - PGCD avec l'algorithme des différences :\n",
    "Pour tous entiers naturels $a$ et $b$, on a les deux propriétés suivantes :\n",
    "\n",
    "- si $a>=b$, alors $pgcd(a;b) = pgcd(b;a-b)$\n",
    "- $pgcd(a;0) = a$.\n",
    "\n",
    "Compléter la fonction récursive `pgcd_diff(a,b)` renvoyant le pgcd des entiers naturels `a` et `b`."
   ]
  },
  {
   "cell_type": "code",
   "execution_count": null,
   "metadata": {},
   "outputs": [],
   "source": [
    "def pgcd_diff(a,b):\n",
    "    pass\n",
    "\n",
    "assert pgcd_diff(8,12)==4\n",
    "assert pgcd_diff(7,9)==1"
   ]
  },
  {
   "cell_type": "markdown",
   "metadata": {},
   "source": [
    "---\n",
    "### Exercice 12 - PGCD avec l'algorithme d'Euclide :\n",
    "Pour tous entiers naturels $a$ et $b$, on a les deux propriétés suivantes :\n",
    "\n",
    "- si $a>=b$, alors $pgcd(a;b) = pgcd(b;r)$ où $r$ est le reste de la division euclidienne de $a$ par $b$.\n",
    "- $pgcd(a;0) = a$.\n",
    "\n",
    "Compléter la fonction récursive `pgcd_euc(a,b)` renvoyant le pgcd des entiers naturels `a` et `b`."
   ]
  },
  {
   "cell_type": "code",
   "execution_count": null,
   "metadata": {},
   "outputs": [],
   "source": [
    "def pgcd_euc(a,b):\n",
    "    pass\n",
    "\n",
    "assert pgcd_euc(8,12)==4\n",
    "assert pgcd_euc(7,9)==1"
   ]
  },
  {
   "cell_type": "markdown",
   "metadata": {},
   "source": [
    "---\n",
    "### Exercice 13\n",
    "Compléter la fonction récursive `shuffle(l1, l2)` qui renvoie une liste dont les éléments sont alternativement ceux de l1 et l2. Si l’une des listes est plus courte que l’autre, on termine avec les éléments non utilisés de la plus longue liste."
   ]
  },
  {
   "cell_type": "code",
   "execution_count": null,
   "metadata": {},
   "outputs": [],
   "source": [
    "def shuffle(l1, l2):\n",
    "    pass\n",
    "\n",
    "assert shuffle([1,5,3,9,7],[8,2,6])==[1,8,5,2,3,6,9,7]"
   ]
  },
  {
   "cell_type": "markdown",
   "metadata": {},
   "source": [
    "---\n",
    "### Exercice 14 - Plus joli !\n",
    "Tester le code ci-dessous, puis ajouter des disques non seulement vers la droite mais aussi vers le haut, le bas et la gauche."
   ]
  },
  {
   "cell_type": "code",
   "execution_count": null,
   "metadata": {},
   "outputs": [],
   "source": [
    "import pylab   # Le module matplotlib doit être installé\n",
    "\n",
    "def Disque(x, y, r):\n",
    "    \"\"\" disque de centre (x,y) et de rayon r \"\"\"\n",
    "    disque = pylab.Circle([x, y], radius = r)\n",
    "    F.add_patch(disque)\n",
    "    \n",
    "def DisquesRecursif(x, y, r):\n",
    "    \"\"\" Construction récursive de la figure \"\"\"\n",
    "    Disque(x, y, r)\n",
    "    if r > 1:\n",
    "        DisquesRecursif(x+r+r/2, y, r/2)\n",
    "\n",
    "# Création de la figure\n",
    "F = pylab.gca()\n",
    "DisquesRecursif(0, 0, 8)\n",
    "# Affichage de la figure\n",
    "pylab.axis('scaled')\n",
    "pylab.show()"
   ]
  },
  {
   "cell_type": "markdown",
   "metadata": {},
   "source": [
    "---\n",
    "### Exercice 15 - Plus difficile !\n",
    "Compléter la fonction récursive `permutations(l1)` qui renvoie la liste de toutes les listes obtenues par permutation des éléments de l1. On peut alors reproduire l’exemple donné sur Wikipedia pour déterminer toutes les permutations de la liste [\"Belle Marquise\",\"vos beaux yeux\",\"me font mourir\",\"d'amour\"] dont le texte est tiré du Bourgeois gentilhomme (Acte II Scène IV) de Molière."
   ]
  },
  {
   "cell_type": "code",
   "execution_count": null,
   "metadata": {},
   "outputs": [],
   "source": [
    "def permutations(l1):\n",
    "    pass\n",
    "\n",
    "assert permutations([1, 2, 3])==[[1, 2, 3], [1, 3, 2], [2, 1, 3], [2, 3, 1], [3, 1, 2], [3, 2, 1]]\n",
    "print(permutations([\"Belle Marquise\",\"vos beaux yeux\",\"me font mourir\",\"d'amour\"]))"
   ]
  }
 ],
 "metadata": {
  "kernelspec": {
   "display_name": "Python 3 (ipykernel)",
   "language": "python",
   "name": "python3"
  },
  "language_info": {
   "codemirror_mode": {
    "name": "ipython",
    "version": 3
   },
   "file_extension": ".py",
   "mimetype": "text/x-python",
   "name": "python",
   "nbconvert_exporter": "python",
   "pygments_lexer": "ipython3",
   "version": "3.10.12"
  }
 },
 "nbformat": 4,
 "nbformat_minor": 4
}
