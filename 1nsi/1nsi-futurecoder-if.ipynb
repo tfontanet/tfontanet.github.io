{
 "cells": [
  {
   "cell_type": "markdown",
   "metadata": {
    "deletable": false,
    "editable": false
   },
   "source": [
    "# Structures conditionnelles `if`"
   ]
  },
  {
   "cell_type": "markdown",
   "metadata": {
    "deletable": false,
    "editable": false
   },
   "source": [
    "### Exercice 1\n",
    "Compléter puis exécuter le code ci-dessous de façon à ce qu'il *passe* tous les asserts :"
   ]
  },
  {
   "cell_type": "code",
   "execution_count": 1,
   "metadata": {},
   "outputs": [],
   "source": [
    "def mange_lettre(mot):\n",
    "    \"\"\" Fonction qui renvoie 'mot' privé de sa première lettre. \"\"\"\n",
    "    pass\n",
    "\n",
    "print(mange_lettre(\"broute\"))"
   ]
  },
  {
   "cell_type": "code",
   "execution_count": 1,
   "metadata": {
    "deletable": false,
    "editable": false
   },
   "outputs": [],
   "source": [
    "assert mange_lettre(\"broute\") == 'route'\n",
    "assert mange_lettre(\"privé\") == 'rivé'\n",
    "assert mange_lettre(\"classe\") == 'lasse'\n",
    "assert mange_lettre(\"mamie\") == 'amie'"
   ]
  },
  {
   "cell_type": "markdown",
   "metadata": {
    "deletable": false,
    "editable": false
   },
   "source": [
    "### Exercice 2\n",
    "Compléter puis exécuter le code ci-dessous de façon à ce qu'il *passe* tous les asserts :"
   ]
  },
  {
   "cell_type": "code",
   "execution_count": 2,
   "metadata": {},
   "outputs": [],
   "source": [
    "def formatte(phrase):\n",
    "    \"\"\" Fonction qui met la première lettre de 'phrase' en majuscule\n",
    "        et ajoute un point à la fin de la phrase s'il n'y en a pas. \"\"\"\n",
    "    pass\n",
    "\n",
    "print(formatte(\"beautiful is better than ugly\"))"
   ]
  },
  {
   "cell_type": "code",
   "execution_count": 2,
   "metadata": {
    "deletable": false,
    "editable": false
   },
   "outputs": [],
   "source": [
    "assert formatte(\"beautiful is better than ugly\") == \"Beautiful is better than ugly.\"\n",
    "assert formatte(\"Explicit is better than implicit.\") == \"Explicit is better than implicit.\"\n",
    "assert formatte(\"Simple is better than complex\") == \"Simple is better than complex.\"\n",
    "assert formatte(\"complex is better than complicated.\") == \"Complex is better than complicated.\""
   ]
  },
  {
   "cell_type": "markdown",
   "metadata": {
    "deletable": false,
    "editable": false
   },
   "source": [
    "### Exercice 3\n",
    "Compléter puis exécuter le code ci-dessous de façon à ce qu'il *passe* tous les asserts :"
   ]
  },
  {
   "cell_type": "code",
   "execution_count": 3,
   "metadata": {},
   "outputs": [],
   "source": [
    "def appréciation(note):\n",
    "    \"\"\" Fonction qui renvoie selon la note : 'Faible' (note<10), 'Moyen' (10<=note<13),\n",
    "        'Assez Bien' (13<=note<16), ou 'Bien' (note>=16). \"\"\"\n",
    "    pass\n",
    "\n",
    "print(appréciation(3))"
   ]
  },
  {
   "cell_type": "code",
   "execution_count": 3,
   "metadata": {
    "deletable": false,
    "editable": false
   },
   "outputs": [],
   "source": [
    "assert appréciation(3) == \"Faible\"\n",
    "assert appréciation(10) == \"Moyen\"\n",
    "assert appréciation(11) == \"Moyen\"\n",
    "assert appréciation(16) == \"Bien\""
   ]
  },
  {
   "cell_type": "markdown",
   "metadata": {
    "deletable": false,
    "editable": false
   },
   "source": [
    "### Exercice 4\n",
    "Compléter puis exécuter le code ci-dessous de façon à ce qu'il *passe* tous les asserts :"
   ]
  },
  {
   "cell_type": "code",
   "execution_count": 4,
   "metadata": {},
   "outputs": [],
   "source": [
    "def minimum(a, b, c):\n",
    "    \"\"\" Fonction qui renvoie le plus petit des 3 nombres a, b et c.\n",
    "        (sans utiliser la fonction min de Python ;-) \"\"\"\n",
    "    pass\n",
    "\n",
    "print(minimum(3, 5, 13)"
   ]
  },
  {
   "cell_type": "code",
   "execution_count": 4,
   "metadata": {
    "deletable": false,
    "editable": false
   },
   "outputs": [],
   "source": [
    "assert minimum(3, 5, 13) == 3\n",
    "assert minimum(5, 3, 13) == 3\n",
    "assert minimum(13, 5, 13) == 5\n",
    "assert minimum(3, -1, -1) == -1"
   ]
  },
  {
   "cell_type": "markdown",
   "metadata": {
    "deletable": false,
    "editable": false
   },
   "source": [
    "### Exercice 5\n",
    "Compléter puis exécuter le code ci-dessous de façon à ce qu'il *passe* tous les asserts :"
   ]
  },
  {
   "cell_type": "code",
   "execution_count": 5,
   "metadata": {},
   "outputs": [],
   "source": [
    "def minmaj(phrase):\n",
    "    \"\"\" Fonction qui renvoie 'phrase' en commençant par une majuscule puis qui alterne minuscules et majuscules. \"\"\"\n",
    "    pass\n",
    "\n",
    "print(minmaj(\"Papy fait de la résistance\"))"
   ]
  },
  {
   "cell_type": "code",
   "execution_count": 5,
   "metadata": {
    "deletable": false,
    "editable": false
   },
   "outputs": [],
   "source": [
    "assert minmaj(\"Papy fait de la résistance\") == \"PaPy fAiT De lA RéSiStAnCe\"\n",
    "assert minmaj(\"Je n'ai pas vu le film d'Inoxtag\") == \"Je n'aI PaS Vu lE FiLm d'iNoXtAg\"\n",
    "assert minmaj(\"Passe moi tes codes Netflix\") == \"PaSsE MoI TeS CoDeS NeTfLiX\"\n",
    "assert minmaj(\"oooooooooooooooooooo !\") == \"OoOoOoOoOoOoOoOoOoOo !\""
   ]
  },
  {
   "cell_type": "markdown",
   "metadata": {
    "deletable": false,
    "editable": false
   },
   "source": [
    "### Exercice 6\n",
    "Compléter puis exécuter le code ci-dessous de façon à ce qu'il *passe* tous les asserts :"
   ]
  },
  {
   "cell_type": "code",
   "execution_count": 6,
   "metadata": {},
   "outputs": [],
   "source": [
    "def adn(brin):\n",
    "    \"\"\" Fonction qui renvoie 'brin' après avoir échangé les T avec les A, et les C avec les G. \"\"\"\n",
    "    pass\n",
    "\n",
    "print(adn(\"AGTAGCGT\"))"
   ]
  },
  {
   "cell_type": "code",
   "execution_count": 6,
   "metadata": {
    "deletable": false,
    "editable": false
   },
   "outputs": [],
   "source": [
    "assert adn(\"AGTAGCGTCCTTAGTTACAGGATGGCTTAT\") == \"TCATCGCAGGAATCAATGTCCTACCGAATA\"\n",
    "assert adn(\"TGTAAGGATGGCTTATGCGTCCTTAGTTAC\") == \"ACATTCCTACCGAATACGCAGGAATCAATG\"\n",
    "assert adn(\"AAAAACCCCCCTTTTTTGGGGGGGMMMMMMMNNNNN\") == \"TTTTTGGGGGGAAAAAACCCCCCCMMMMMMMNNNNN\"\n",
    "assert adn(\"actg\") == \"TGAC\""
   ]
  },
  {
   "cell_type": "markdown",
   "metadata": {
    "deletable": false,
    "editable": false
   },
   "source": [
    "### Exercice 7\n",
    "Compléter puis exécuter le code ci-dessous de façon à ce qu'il *passe* tous les asserts :"
   ]
  },
  {
   "cell_type": "code",
   "execution_count": 8,
   "metadata": {},
   "outputs": [],
   "source": [
    "def imprononçable(phrase):\n",
    "    \"\"\" Fonction qui renvoie 'phrase' après avoir supprimé les voyelles minuscules aei et les espaces blancs. \"\"\"\n",
    "    pass\n",
    "\n",
    "print(imprononçable(\"Papy fait de la résistance\"))"
   ]
  },
  {
   "cell_type": "code",
   "execution_count": 8,
   "metadata": {
    "deletable": false,
    "editable": false
   },
   "outputs": [],
   "source": [
    "assert imprononçable(\"Papy fait de la résistance\") == \"Ppyftdlrésstnc\"\n",
    "assert imprononçable(\"Je n'ai pas vu le film d'Inoxtag\") == \"Jn'psvulflmd'Inoxtg\"\n",
    "assert imprononçable(\"Passe moi tes codes Netflix\") == \"PssmotscodsNtflx\"\n",
    "assert imprononçable(\"aaaaaaa\") == \"\""
   ]
  },
  {
   "cell_type": "markdown",
   "metadata": {
    "deletable": false,
    "editable": false
   },
   "source": [
    "### Exercice 8\n",
    "Compléter puis exécuter le code ci-dessous de façon à ce qu'il *passe* tous les asserts :"
   ]
  },
  {
   "cell_type": "code",
   "execution_count": 9,
   "metadata": {},
   "outputs": [],
   "source": [
    "def longueur(phrase):\n",
    "    \"\"\" Fonction qui renvoie le nombre de caractères de 'phrase' sans compter les espaces blancs. \"\"\"\n",
    "    pass\n",
    "\n",
    "print(longueur(\"J'y suis arrivé !\"))"
   ]
  },
  {
   "cell_type": "code",
   "execution_count": 9,
   "metadata": {
    "deletable": false,
    "editable": false
   },
   "outputs": [],
   "source": [
    "assert longueur(\"J'y suis arrivé !\") == 14\n",
    "assert longueur(\"Euhh, pas si sûr, je fais encore quelques tests\") == 39\n",
    "assert longueur(\"Lorem ipsum dolor sit amet, consectetur adipiscing elit.\") == 49\n",
    "assert longueur(\"\") == 0"
   ]
  },
  {
   "cell_type": "markdown",
   "metadata": {
    "deletable": false,
    "editable": false
   },
   "source": [
    "### Exercice 9\n",
    "Compléter puis exécuter le code ci-dessous de façon à ce qu'il *passe* tous les asserts :"
   ]
  },
  {
   "cell_type": "code",
   "execution_count": 10,
   "metadata": {},
   "outputs": [],
   "source": [
    "def inverse_casse(phrase):\n",
    "    \"\"\" Fonction qui renvoie 'phrase' en mettant les minuscules en majuscules et les majuscules en minuscules. \"\"\"\n",
    "    pass\n",
    "\n",
    "print(inverse_casse(\"Bonjour à tous\"))"
   ]
  },
  {
   "cell_type": "code",
   "execution_count": 10,
   "metadata": {
    "deletable": false,
    "editable": false
   },
   "outputs": [],
   "source": [
    "assert inverse_casse(\"Bonjour à tous\") == \"bONJOUR À TOUS\"\n",
    "assert inverse_casse(\"Voici un script Python\") == \"vOICI UN SCRIPT pYTHON\"\n",
    "assert inverse_casse(\"qui ne sert à rien\") == \"QUI NE SERT À RIEN\"\n",
    "assert inverse_casse(\"mais qui fonctionne BIEN !\") == \"MAIS QUI FONCTIONNE bien !\""
   ]
  },
  {
   "cell_type": "markdown",
   "metadata": {
    "deletable": false,
    "editable": false
   },
   "source": [
    "### Exercice 10\n",
    "Compléter puis exécuter le code ci-dessous de façon à ce qu'il *passe* tous les asserts :"
   ]
  },
  {
   "cell_type": "code",
   "execution_count": 11,
   "metadata": {},
   "outputs": [],
   "source": [
    "def compte_voyelles(phrase):\n",
    "    \"\"\" Fonction qui renvoie le nombre de voyelles non accentuées aeiouy minuscules ou majuscules qu'il y a dans 'phrase'. \"\"\"\n",
    "    pass\n",
    "\n",
    "print(compte_voyelles(\"Papy, raconte moi ton histoire\"))"
   ]
  },
  {
   "cell_type": "code",
   "execution_count": 11,
   "metadata": {
    "deletable": false,
    "editable": false
   },
   "outputs": [],
   "source": [
    "assert compte_voyelles(\"Papy, raconte moi ton histoire\") == 12\n",
    "assert compte_voyelles(\"Je n'ai pas vu le film d'Inoxtag\") == 10\n",
    "assert compte_voyelles(\"Passe moi tes codes Netflix\") == 9\n",
    "assert compte_voyelles(\"oOoOoOoOo\") == 9"
   ]
  },
  {
   "cell_type": "markdown",
   "metadata": {
    "deletable": false,
    "editable": false
   },
   "source": [
    "### Exercice 11\n",
    "Compléter puis exécuter le code ci-dessous de façon à ce qu'il *passe* tous les asserts :"
   ]
  },
  {
   "cell_type": "code",
   "execution_count": 12,
   "metadata": {},
   "outputs": [],
   "source": [
    "def longueur_premier_mot(phrase):\n",
    "    \"\"\" Fonction qui renvoie le nombre de caractères du premier mot de 'phrase'. \"\"\"\n",
    "    pass\n",
    "\n",
    "print(longueur_premier_mot(\"NSI\"))"
   ]
  },
  {
   "cell_type": "code",
   "execution_count": 12,
   "metadata": {
    "deletable": false,
    "editable": false
   },
   "outputs": [],
   "source": [
    "assert longueur_premier_mot(\"NSI\") == 3\n",
    "assert longueur_premier_mot(\"Je suis très motivé\") == 2\n",
    "assert longueur_premier_mot(\"S'entraîner est le secret de la réussite\") == 11\n",
    "assert longueur_premier_mot(\"Travailler plus pour prendre confiance en soi\") == 10"
   ]
  },
  {
   "cell_type": "markdown",
   "metadata": {
    "deletable": false,
    "editable": false
   },
   "source": [
    "### Exercice 12\n",
    "Compléter puis exécuter le code ci-dessous de façon à ce qu'il *passe* tous les asserts :"
   ]
  },
  {
   "cell_type": "code",
   "execution_count": 13,
   "metadata": {},
   "outputs": [],
   "source": [
    "def plus_petit_caractère(mot):\n",
    "    \"\"\" Fonction qui renvoie le caractère le plus petit dans l'ordre alphabétique de 'mot'. \"\"\"\n",
    "    pass\n",
    "\n",
    "print(plus_petit_caractère(\"Magnifique\"))"
   ]
  },
  {
   "cell_type": "code",
   "execution_count": 13,
   "metadata": {
    "deletable": false,
    "editable": false
   },
   "outputs": [],
   "source": [
    "assert plus_petit_caractère(\"Magnifique\") == \"a\"\n",
    "assert plus_petit_caractère(\"Bison\") == \"b\"\n",
    "assert plus_petit_caractère(\"Dodeliner\") == \"d\"\n",
    "assert plus_petit_caractère(\"emberlificoté\") == \"b\""
   ]
  },
  {
   "cell_type": "markdown",
   "metadata": {
    "deletable": false,
    "editable": false
   },
   "source": [
    "### Exercice 13\n",
    "Compléter puis exécuter le code ci-dessous de façon à ce qu'il *passe* tous les asserts :"
   ]
  },
  {
   "cell_type": "code",
   "execution_count": 7,
   "metadata": {},
   "outputs": [],
   "source": [
    "def binaire(n):\n",
    "    \"\"\" Fonction qui renvoie une chaine de caractères donnant l'écriture binaire de n. \"\"\"\n",
    "    pass\n",
    "\n",
    "print(binaire(2))"
   ]
  },
  {
   "cell_type": "code",
   "execution_count": 7,
   "metadata": {
    "deletable": false,
    "editable": false
   },
   "outputs": [],
   "source": [
    "assert binaire(2) == \"10\"\n",
    "assert binaire(7) == \"111\"\n",
    "assert binaire(16) == \"10000\"\n",
    "assert binaire(1000) == \"1111101000\""
   ]
  }
 ],
 "metadata": {
  "celltoolbar": "Format de la Cellule Texte Brut",
  "colab": {
   "name": "python4tp.ipynb",
   "provenance": [],
   "toc_visible": true
  },
  "kernelspec": {
   "display_name": "Python 3 (ipykernel)",
   "language": "python",
   "name": "python3"
  },
  "language_info": {
   "codemirror_mode": {
    "name": "ipython",
    "version": 3
   },
   "file_extension": ".py",
   "mimetype": "text/x-python",
   "name": "python",
   "nbconvert_exporter": "python",
   "pygments_lexer": "ipython3",
   "version": "3.10.12"
  }
 },
 "nbformat": 4,
 "nbformat_minor": 4
}
