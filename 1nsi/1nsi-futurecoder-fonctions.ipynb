{
 "cells": [
  {
   "cell_type": "markdown",
   "metadata": {
    "deletable": false,
    "editable": false
   },
   "source": [
    "# Fonctions et Asserts par l'exemple\n",
    "\n",
    "## 1. Les fonctions\n",
    "Lorsque plusieurs lignes de code python doivent être exécutées à différents endroits d'un programme, on a l'habitude de les rassembler dans ce que l'on appelle une `fonction`. Cela permet de n'écrire ces lignes qu'une seule fois, tout en les appelant ensuite autant de fois que l'on veut et avec éventuellement des `paramètres` différents.  \n",
    "Cette approche nous permet également d'utiliser plus facilement du code écrit par une autre personne. Par exemple, nous avons déjà utilisé la fonction `print()` sans avoir à nous préoccuper de la façon dont elle est écrite. "
   ]
  },
  {
   "cell_type": "markdown",
   "metadata": {
    "deletable": false,
    "editable": false
   },
   "source": [
    "### Exemple 1 :\n",
    "Dans les deux premières lignes du code ci-dessous, on a défini une fonction `carré` que Python va charger en mémoire pour pouvoir l'exécuter à la demande.  \n",
    "Puis dans la ligne 4, on demande à Python d'exécuter cette fonction dans le cas ou `n` est égal à 3.  \n",
    "Remarquez que le résultat du calcul va être affecté à la variable `a`.\n",
    "\n",
    "Que va afficher ce programme ? (Pour vérifier, sélectionner la cellule ci-dessous, puis cliquer dans la barre d'outils en haut de page sur \"Exécuter\")"
   ]
  },
  {
   "cell_type": "code",
   "execution_count": null,
   "metadata": {},
   "outputs": [],
   "source": [
    "def carré(n):\n",
    "    return n*n\n",
    "\n",
    "a = carré(3)\n",
    "print(a)"
   ]
  },
  {
   "cell_type": "markdown",
   "metadata": {
    "deletable": false,
    "editable": false
   },
   "source": [
    "Qu'affichent les lignes suivantes : (Pour vérifier, sélectionner la cellule et cliquer sur \"Exécuter\")"
   ]
  },
  {
   "cell_type": "code",
   "execution_count": null,
   "metadata": {},
   "outputs": [],
   "source": [
    "b = carré(a)\n",
    "print(b)"
   ]
  },
  {
   "cell_type": "markdown",
   "metadata": {
    "deletable": false,
    "editable": false
   },
   "source": [
    "> **Vocabulaire :**  \n",
    "> On a défini ci-dessus une fonction dont le `nom` est *carré*.  \n",
    "> Cette fonction à un seul `paramètre` appelé *n*.  \n",
    "> Quand on exécute *carré(3)* on dit que l'on `appelle` la fonction carré avec le `paramètre` 3 et que celle-ci `renvoie` 9"
   ]
  },
  {
   "cell_type": "markdown",
   "metadata": {
    "deletable": false,
    "editable": false
   },
   "source": [
    "## 2. Les asserts\n",
    "l'instruction `assert` teste une condition :  \n",
    "- Si cette condition est vraie, le programme continue et n'affiche rien.\n",
    "- Si cette condition est fausse, le programme s'interrompt en précisant l'assertion ayant déclenché l'erreur.\n",
    "\n",
    "Dans la suite de l'année, nous utiliserons très fréquemment cette instruction pour tester les fonctions que nous aurons écrites. "
   ]
  },
  {
   "cell_type": "markdown",
   "metadata": {
    "deletable": false,
    "editable": false
   },
   "source": [
    "### Exemple 2 \n",
    "Essayer de comprendre ce que va faire le code ci-dessous, puis sélectionner et \"Exécuter\" pour vérifier :"
   ]
  },
  {
   "cell_type": "code",
   "execution_count": null,
   "metadata": {},
   "outputs": [],
   "source": [
    "assert carré(3) == 9\n",
    "assert carré(2) == 4\n",
    "assert carré(0) == 0\n",
    "assert carré(-1) == 1\n",
    "assert carré(10) == 20"
   ]
  },
  {
   "cell_type": "markdown",
   "metadata": {
    "deletable": false,
    "editable": false
   },
   "source": [
    "> **Bilan :**  \n",
    "> Les 4 premiers asserts correspondent à des conditions qui sont vraies, donc python les exécute silencieusement.  \n",
    "> En revanche le 5ème assert déclenche une erreur. En lisant le message, on voit que c'est l'assert de la ligne 5 qui est fautif.\n",
    ">\n",
    ">  On remarque que les conditions ont été écrites avec deux `==` pour distinguer du simple `=` utilisé pour les affectations."
   ]
  },
  {
   "cell_type": "markdown",
   "metadata": {
    "deletable": false,
    "editable": false
   },
   "source": [
    "### Exemple 3\n",
    "Compléter puis exécuter le code ci-dessous de façon à ce qu'il *passe* tous les asserts :"
   ]
  },
  {
   "cell_type": "code",
   "execution_count": null,
   "metadata": {},
   "outputs": [],
   "source": [
    "def prixTTC(prixHT_au_kilo, masse, pourcentage_taxe):\n",
    "    prixHT = prixHT_au_kilo * ...\n",
    "    prixTTC = prixHT * (1 + ...)\n",
    "    return ...\n",
    "\n",
    "print(prixTTC(1, 1, 20))"
   ]
  },
  {
   "cell_type": "code",
   "execution_count": null,
   "metadata": {
    "deletable": false,
    "editable": false
   },
   "outputs": [],
   "source": [
    "assert prixTTC(1, 1, 20) == 1.2\n",
    "assert prixTTC(1, 0.5, 0) == 0.5\n",
    "assert prixTTC(2, 0.5, 10) == 1.1\n",
    "assert prixTTC(10, 0.1, 20) == 1.2"
   ]
  },
  {
   "cell_type": "markdown",
   "metadata": {
    "deletable": false,
    "editable": false
   },
   "source": [
    "### Exemple 4\n",
    "Compléter puis exécuter le code ci-dessous de façon à ce qu'il *passe* tous les asserts :"
   ]
  },
  {
   "cell_type": "code",
   "execution_count": null,
   "metadata": {},
   "outputs": [],
   "source": [
    "def incrémente(n):\n",
    "    return n + 1"
   ]
  },
  {
   "cell_type": "code",
   "execution_count": null,
   "metadata": {},
   "outputs": [],
   "source": [
    "assert incrémente(1) == ...\n",
    "assert incrémente(2) == ...\n",
    "assert incrémente(-1) == ...\n",
    "assert incrémente(1+3*2) == ..."
   ]
  },
  {
   "cell_type": "markdown",
   "metadata": {
    "deletable": false,
    "editable": false
   },
   "source": [
    "### Exemple 5\n",
    "Compléter puis exécuter le code ci-dessous de façon à ce qu'il *passe* tous les asserts :"
   ]
  },
  {
   "cell_type": "code",
   "execution_count": null,
   "metadata": {},
   "outputs": [],
   "source": [
    "def opposé(nombre):\n",
    "    pass\n",
    "\n",
    "print(opposé(2))"
   ]
  },
  {
   "cell_type": "code",
   "execution_count": null,
   "metadata": {
    "deletable": false,
    "editable": false
   },
   "outputs": [],
   "source": [
    "assert opposé(2) == -2\n",
    "assert opposé(1.34) == -1.34\n",
    "assert opposé(0) == 0\n",
    "assert opposé(-3) == 3"
   ]
  },
  {
   "cell_type": "markdown",
   "metadata": {
    "deletable": false,
    "editable": false
   },
   "source": [
    "### Exemple 6\n",
    "Compléter puis exécuter le code ci-dessous de façon à ce qu'il *passe* tous les asserts :"
   ]
  },
  {
   "cell_type": "code",
   "execution_count": null,
   "metadata": {},
   "outputs": [],
   "source": [
    "def poli(nom):\n",
    "    pass\n",
    "\n",
    "print(poli('Monsieur'))"
   ]
  },
  {
   "cell_type": "code",
   "execution_count": null,
   "metadata": {
    "deletable": false,
    "editable": false
   },
   "outputs": [],
   "source": [
    "assert poli('Monsieur') == 'Bonjour Monsieur'\n",
    "assert poli('Franckie') == 'Bonjour Franckie'\n",
    "assert poli('') == 'Bonjour '\n",
    "assert poli('Paulette et Gérard') == 'Bonjour Paulette et Gérard'"
   ]
  },
  {
   "cell_type": "markdown",
   "metadata": {
    "deletable": false,
    "editable": false
   },
   "source": [
    "### Exemple 7\n",
    "Compléter puis exécuter le code ci-dessous de façon à ce qu'il *passe* tous les asserts :"
   ]
  },
  {
   "cell_type": "code",
   "execution_count": null,
   "metadata": {},
   "outputs": [],
   "source": [
    "def ajoute(a, b):\n",
    "    pass\n",
    "\n",
    "print(ajoute(2, 5))"
   ]
  },
  {
   "cell_type": "code",
   "execution_count": null,
   "metadata": {
    "deletable": false,
    "editable": false
   },
   "outputs": [],
   "source": [
    "assert ajoute(2, 5) == 7\n",
    "assert ajoute(2, -5) == -3\n",
    "nom = \"les amis\"\n",
    "assert ajoute(\"Bonjour \", nom) == \"Bonjour les amis\"\n",
    "assert ajoute(\"aei\", \"ouy\") == \"aeiouy\""
   ]
  },
  {
   "cell_type": "markdown",
   "metadata": {
    "deletable": false,
    "editable": false
   },
   "source": [
    "### Exemple 8\n",
    "Compléter puis exécuter le code ci-dessous de façon à ce qu'il *passe* tous les asserts :"
   ]
  },
  {
   "cell_type": "code",
   "execution_count": null,
   "metadata": {},
   "outputs": [],
   "source": [
    "def cache(mot, masque):\n",
    "    pass\n",
    "\n",
    "print(cache(\"bon\", \"*\"))"
   ]
  },
  {
   "cell_type": "code",
   "execution_count": null,
   "metadata": {
    "deletable": false,
    "editable": false
   },
   "outputs": [],
   "source": [
    "assert cache(\"bon\", \"*\") == \"***\"\n",
    "assert cache(\"bonjour\", \"-\") == \"-------\"\n",
    "assert cache(\"ooo\", \"O\") == \"OOO\"\n",
    "assert cache(\"australopithèque\", \".\") == \"................\""
   ]
  }
 ],
 "metadata": {
  "celltoolbar": "Format de la Cellule Texte Brut",
  "colab": {
   "name": "python4tp.ipynb",
   "provenance": [],
   "toc_visible": true
  },
  "kernelspec": {
   "display_name": "Python 3 (ipykernel)",
   "language": "python",
   "name": "python3"
  },
  "language_info": {
   "codemirror_mode": {
    "name": "ipython",
    "version": 3
   },
   "file_extension": ".py",
   "mimetype": "text/x-python",
   "name": "python",
   "nbconvert_exporter": "python",
   "pygments_lexer": "ipython3",
   "version": "3.10.12"
  }
 },
 "nbformat": 4,
 "nbformat_minor": 4
}
