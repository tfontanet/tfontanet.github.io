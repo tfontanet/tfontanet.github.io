{
 "cells": [
  {
   "cell_type": "markdown",
   "metadata": {},
   "source": [
    "# Listes"
   ]
  },
  {
   "cell_type": "markdown",
   "metadata": {},
   "source": [
    "### Exercice 1\n",
    "Compléter puis exécuter le code ci-dessous de façon à ce qu'il *passe* tous les asserts :"
   ]
  },
  {
   "cell_type": "code",
   "execution_count": 1,
   "metadata": {},
   "outputs": [],
   "source": [
    "def sépare(liste, séparateur):\n",
    "    \"\"\" Fonction qui renvoie une chaine de caractères contenant tous les items de 'liste'\n",
    "        séparés par le caractère 'séparateur' \"\"\"\n",
    "    pass\n",
    "\n",
    "assert sépare(['ceci', 'est', 'une', 'liste'], ' ') == 'ceci est une liste'\n",
    "assert sépare(['ça', 'va', 'bientôt', 'sonner'], '-') == 'ça-va-bientôt-sonner'\n",
    "assert sépare(['Les sanglots longs', 'des violons de l’automne'], ' (sniff) ') == 'Les sanglots longs (sniff) des violons de l’automne'\n",
    "assert sépare([\"c'est\", \"tout\", \"collé\"], \"\") == \"c'esttoutcollé\""
   ]
  },
  {
   "cell_type": "markdown",
   "metadata": {},
   "source": [
    "### Exercice 2\n",
    "Compléter puis exécuter le code ci-dessous de façon à ce qu'il *passe* tous les asserts :"
   ]
  },
  {
   "cell_type": "code",
   "execution_count": 2,
   "metadata": {},
   "outputs": [],
   "source": [
    "def double(liste):\n",
    "    \"\"\" Fonction qui multiplie par 2 les items de 'liste' \"\"\"\n",
    "    pass\n",
    "\n",
    "assert double([1, 2, 3]) == [2, 4, 6]\n",
    "assert double([1/2, 1]) == [1, 2]\n",
    "assert double([0]) == [0]\n",
    "assert double([-1, 0, 1, 2, 3]) == [-2, 0, 2, 4, 6]"
   ]
  },
  {
   "cell_type": "markdown",
   "metadata": {},
   "source": [
    "### Exercice 3\n",
    "Compléter puis exécuter le code ci-dessous de façon à ce qu'il *passe* tous les asserts :"
   ]
  },
  {
   "cell_type": "code",
   "execution_count": 3,
   "metadata": {},
   "outputs": [],
   "source": [
    "def seuil(liste, limite):\n",
    "    \"\"\" Fonction qui renvoie une liste contenant les items de 'liste' supérieurs ou égaux à 'limite' \"\"\"\n",
    "    pass\n",
    "\n",
    "assert seuil([1, 2, 3], 2) == [2, 3]\n",
    "assert seuil([6, 2, 8, 21, 2, 3], 8) == [8, 21]\n",
    "assert seuil([6, 2, 8, 21, 2, 3], 30) == []\n",
    "assert seuil([6, 2, 8, 21, 2, 3], 3) == [6, 8, 21, 3]"
   ]
  },
  {
   "cell_type": "markdown",
   "metadata": {},
   "source": [
    "### Exercice 4\n",
    "Compléter puis exécuter le code ci-dessous de façon à ce qu'il *passe* tous les asserts :"
   ]
  },
  {
   "cell_type": "code",
   "execution_count": 4,
   "metadata": {},
   "outputs": [],
   "source": [
    "def appartient(liste, valeur):\n",
    "    \"\"\" Fonction qui renvoie True si 'valeur' est présente dans 'liste' \"\"\"\n",
    "    pass\n",
    "\n",
    "assert appartient([1, 2, 3], 2)\n",
    "assert appartient([6, 2, 8, 21, 2, 3], 8)\n",
    "assert not appartient([6, 2, 8, 21, 2, 3], 30)\n",
    "assert appartient([6, 2, 8, 21, 2, 3], 2)"
   ]
  },
  {
   "cell_type": "markdown",
   "metadata": {},
   "source": [
    "### Exercice 5\n",
    "Compléter puis exécuter le code ci-dessous de façon à ce qu'il *passe* tous les asserts :"
   ]
  },
  {
   "cell_type": "code",
   "execution_count": 5,
   "metadata": {},
   "outputs": [],
   "source": [
    "def nombre_occurences(liste, valeur):\n",
    "    \"\"\" Fonction qui renvoie le nombre de fois où 'valeur' est présente dans 'liste' \"\"\"\n",
    "    pass\n",
    "\n",
    "assert nombre_occurences([1, 2, 3], 2) == 1\n",
    "assert nombre_occurences([6, 2, 8, 2, 2, 3], 2) == 3\n",
    "assert nombre_occurences([6, 2, 8, 2, 2, 3], 7) == 0\n",
    "assert nombre_occurences([6, 6, 8, 6, 2, 6], 6) == 4"
   ]
  },
  {
   "cell_type": "markdown",
   "metadata": {},
   "source": [
    "### Exercice 6\n",
    "Compléter puis exécuter le code ci-dessous de façon à ce qu'il *passe* tous les asserts :"
   ]
  },
  {
   "cell_type": "code",
   "execution_count": 6,
   "metadata": {},
   "outputs": [],
   "source": [
    "def dernier(liste):\n",
    "    \"\"\" Fonction qui renvoie le dernier item de 'liste' \"\"\"\n",
    "    pass\n",
    "\n",
    "assert dernier([1, 2, 3]) == 3\n",
    "assert dernier([6, 2, 8, 21, 2, 3, -3]) == -3\n",
    "assert dernier([3, 1, 4, 1, 5, 9, 2, 6]) == 6\n",
    "assert dernier([3, 3, 3, 'salut']) == 'salut'"
   ]
  },
  {
   "cell_type": "markdown",
   "metadata": {},
   "source": [
    "### Exercice 7\n",
    "Compléter puis exécuter le code ci-dessous de façon à ce qu'il *passe* tous les asserts :"
   ]
  },
  {
   "cell_type": "code",
   "execution_count": 7,
   "metadata": {},
   "outputs": [],
   "source": [
    "def compter(n):\n",
    "    \"\"\" Fonction qui renvoie la liste des entiers de 0 à n compris (n > 0) \"\"\"\n",
    "    pass\n",
    "\n",
    "assert compter(3) == [0, 1, 2, 3]\n",
    "assert compter(10) == [0, 1, 2, 3, 4, 5, 6, 7, 8, 9, 10]\n",
    "assert compter(0) == [0]\n",
    "assert compter(7) == [0, 1, 2, 3, 4, 5, 6, 7]"
   ]
  },
  {
   "cell_type": "markdown",
   "metadata": {},
   "source": [
    "### Exercice 8\n",
    "Compléter puis exécuter le code ci-dessous de façon à ce qu'il *passe* tous les asserts :"
   ]
  },
  {
   "cell_type": "code",
   "execution_count": 8,
   "metadata": {},
   "outputs": [],
   "source": [
    "def somme(n):\n",
    "    \"\"\" Fonction qui renvoie la somme des entiers de 0 à n compris (n > 0) \"\"\"\n",
    "    pass\n",
    "\n",
    "assert somme(3) == 6\n",
    "assert somme(10) == 55\n",
    "assert somme(100) == 5050\n",
    "assert somme(1000) == 500500"
   ]
  },
  {
   "cell_type": "markdown",
   "metadata": {},
   "source": [
    "### Exercice 9\n",
    "Compléter puis exécuter le code ci-dessous de façon à ce qu'il *passe* tous les asserts :"
   ]
  },
  {
   "cell_type": "code",
   "execution_count": 9,
   "metadata": {},
   "outputs": [],
   "source": [
    "def renverse(liste):\n",
    "    \"\"\" Fonction qui renvoie la liste à l'envers \"\"\"\n",
    "    pass\n",
    "\n",
    "assert renverse([0, 1, 2, 3]) == [3, 2, 1, 0]\n",
    "assert renverse([0, 1, 2, 3, 4, 5, 6, 7, 8, 9, 10]) == [10, 9, 8, 7, 6, 5, 4, 3, 2, 1, 0]\n",
    "assert renverse([10, 9, 8, 7]) == [7, 8, 9, 10]\n",
    "assert renverse(renverse([0, 1, 2, 3, 4, 5, 6, 7])) == [0, 1, 2, 3, 4, 5, 6, 7]"
   ]
  },
  {
   "cell_type": "markdown",
   "metadata": {},
   "source": [
    "### Exercice 10\n",
    "Compléter puis exécuter le code ci-dessous de façon à ce qu'il *passe* tous les asserts :"
   ]
  },
  {
   "cell_type": "code",
   "execution_count": 10,
   "metadata": {},
   "outputs": [],
   "source": [
    "def indice(liste, valeur):\n",
    "    \"\"\" Fonction qui renvoie le dernier indice de 'valeur' dans 'liste'\n",
    "        Si 'valeur' n'est pas trouvée, la fonction renvoie -1 \"\"\"\n",
    "    pass\n",
    "\n",
    "assert indice([0, 1, 2, 3], 2) == 2\n",
    "assert indice([0, 1, 2, 2, 1, 2, 6], 2) == 5\n",
    "assert indice([10, 9, 8, 7], 3) == -1\n",
    "assert indice([1, 1, 1, 1], 1) == 3"
   ]
  }
 ],
 "metadata": {
  "celltoolbar": "Format de la Cellule Texte Brut",
  "colab": {
   "name": "python4tp.ipynb",
   "provenance": [],
   "toc_visible": true
  },
  "kernelspec": {
   "display_name": "Python 3 (ipykernel)",
   "language": "python",
   "name": "python3"
  },
  "language_info": {
   "codemirror_mode": {
    "name": "ipython",
    "version": 3
   },
   "file_extension": ".py",
   "mimetype": "text/x-python",
   "name": "python",
   "nbconvert_exporter": "python",
   "pygments_lexer": "ipython3",
   "version": "3.10.12"
  }
 },
 "nbformat": 4,
 "nbformat_minor": 4
}
