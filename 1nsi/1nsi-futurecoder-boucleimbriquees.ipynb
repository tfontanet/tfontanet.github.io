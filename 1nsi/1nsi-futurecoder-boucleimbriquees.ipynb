{
 "cells": [
  {
   "cell_type": "markdown",
   "metadata": {
    "deletable": false,
    "editable": false
   },
   "source": [
    "# Boucles imbriquées"
   ]
  },
  {
   "cell_type": "markdown",
   "metadata": {
    "deletable": false,
    "editable": false
   },
   "source": [
    "### Exercice 1\n",
    "Compléter puis exécuter le code ci-dessous de façon à ce qu'il *passe* tous les asserts :"
   ]
  },
  {
   "cell_type": "code",
   "execution_count": 1,
   "metadata": {},
   "outputs": [],
   "source": [
    "def table_multiplication(n):\n",
    "    \"\"\" Fonction qui renvoie la liste ['1x1=1', '1x2=2',... '1xn=n', '2x1=2',... 'nxn=...' ] \"\"\"\n",
    "    pass\n",
    "\n",
    "print(table_multiplication(2))"
   ]
  },
  {
   "cell_type": "code",
   "execution_count": 1,
   "metadata": {
    "deletable": false,
    "editable": false
   },
   "outputs": [],
   "source": [
    "assert table_multiplication(0) == []\n",
    "assert table_multiplication(1) == ['1x1=1']\n",
    "assert table_multiplication(2) == ['1x1=1', '1x2=2', '2x1=2', '2x2=4']\n",
    "assert table_multiplication(3) == ['1x1=1', '1x2=2', '1x3=3', '2x1=2', '2x2=4', '2x3=6', '3x1=3', '3x2=6', '3x3=9']"
   ]
  },
  {
   "cell_type": "markdown",
   "metadata": {
    "deletable": false,
    "editable": false
   },
   "source": [
    "### Exercice 2\n",
    "Compléter puis exécuter le code ci-dessous de façon à ce qu'il *passe* tous les asserts :"
   ]
  },
  {
   "cell_type": "code",
   "execution_count": 2,
   "metadata": {},
   "outputs": [],
   "source": [
    "def matchs(liste_joueurs):\n",
    "    \"\"\" Fonction qui renvoie la liste de tous les matchs possibles entre les joueurs \"\"\"\n",
    "    pass\n",
    "\n",
    "print(matchs(['Djokovic', 'Nadal', 'Federer']))"
   ]
  },
  {
   "cell_type": "code",
   "execution_count": 2,
   "metadata": {
    "deletable": false,
    "editable": false
   },
   "outputs": [],
   "source": [
    "assert matchs(['Ding Liren', 'Magnus Carlsen']) == ['Ding Liren-Magnus Carlsen']\n",
    "assert matchs(['Djokovic', 'Nadal', 'Federer']) == ['Djokovic-Nadal', 'Djokovic-Federer', 'Nadal-Federer']\n",
    "assert matchs(['PS5', 'Xbox', 'Switch', 'Wii']) == ['PS5-Xbox', 'PS5-Switch', 'PS5-Wii', 'Xbox-Switch', 'Xbox-Wii', 'Switch-Wii']\n",
    "assert matchs(['A', 'B', 'C', 'D', 'E']) == ['A-B', 'A-C', 'A-D', 'A-E', 'B-C', 'B-D', 'B-E', 'C-D', 'C-E', 'D-E']"
   ]
  },
  {
   "cell_type": "markdown",
   "metadata": {
    "deletable": false,
    "editable": false
   },
   "source": [
    "### Exercice 3\n",
    "Compléter puis exécuter le code ci-dessous de façon à ce qu'il *passe* tous les asserts :"
   ]
  },
  {
   "cell_type": "code",
   "execution_count": 3,
   "metadata": {},
   "outputs": [],
   "source": [
    "def cherche_dans_sous_liste(valeur, liste):\n",
    "    \"\"\" cherche une sous chaine de caractères dans une liste de listes  \"\"\"\n",
    "    pass\n",
    "\n",
    "print(cherche_dans_sous_liste('a', [['coucou'], ['comment', 'allez', 'vous', '?'], ['bien', 'et toi ?']]))"
   ]
  },
  {
   "cell_type": "code",
   "execution_count": 3,
   "metadata": {
    "deletable": false,
    "editable": false
   },
   "outputs": [],
   "source": [
    "assert cherche_dans_sous_liste('a', [['coucou'], ['comment', 'allez', 'vous', '?'], ['bien', 'et toi ?']])\n",
    "assert not cherche_dans_sous_liste('f', [['coucou'], ['comment', 'allez', 'vous', '?'], ['bien', 'et toi ?']])\n",
    "assert cherche_dans_sous_liste(' ?', [['coucou'], ['comment', 'allez', 'vous', '?'], ['bien', 'et toi ?']])\n",
    "assert cherche_dans_sous_liste('ment', [['coucou'], ['comment', 'allez', 'vous', '?'], ['bien', 'et toi ?']])"
   ]
  },
  {
   "cell_type": "markdown",
   "metadata": {
    "deletable": false,
    "editable": false
   },
   "source": [
    "### Exercice 4\n",
    "Compléter puis exécuter le code ci-dessous de façon à ce qu'il *passe* tous les asserts :"
   ]
  },
  {
   "cell_type": "code",
   "execution_count": 4,
   "metadata": {},
   "outputs": [],
   "source": [
    "def codes_secrets(liste_lettres):\n",
    "    \"\"\" Fonction qui renvoie la liste de tous les codes secrets de 3 lettres\n",
    "        que l'on peut faire avec les lettres de 'liste_lettres' \"\"\"\n",
    "    pass\n",
    "\n",
    "print(codes_secrets(['A', 'B']))"
   ]
  },
  {
   "cell_type": "code",
   "execution_count": 4,
   "metadata": {
    "deletable": false,
    "editable": false
   },
   "outputs": [],
   "source": [
    "assert codes_secrets(['A']) == ['AAA']\n",
    "assert codes_secrets(['A', 'B']) == ['AAA', 'AAB', 'ABA', 'ABB', 'BAA', 'BAB', 'BBA', 'BBB']\n",
    "assert codes_secrets(['A', 'B', 'C']) == ['AAA', 'AAB', 'AAC', 'ABA', 'ABB', 'ABC', 'ACA', 'ACB', 'ACC', 'BAA', 'BAB', 'BAC', 'BBA', 'BBB', 'BBC', 'BCA', 'BCB', 'BCC', 'CAA', 'CAB', 'CAC', 'CBA', 'CBB', 'CBC', 'CCA', 'CCB', 'CCC']\n",
    "assert codes_secrets(['O', '0']) == ['OOO', 'OO0', 'O0O', 'O00', '0OO', '0O0', '00O', '000']"
   ]
  },
  {
   "cell_type": "markdown",
   "metadata": {
    "deletable": false,
    "editable": false
   },
   "source": [
    "### Exercice 5\n",
    "Compléter puis exécuter le code ci-dessous de façon à ce qu'il *passe* tous les asserts :"
   ]
  },
  {
   "cell_type": "code",
   "execution_count": 5,
   "metadata": {},
   "outputs": [],
   "source": [
    "def alterne(liste_mots):\n",
    "    \"\"\" Fonction qui renvoie une chaine de caractères contenant les premières lettres\n",
    "        des mots de la liste, puis les deuxièmes,... jusqu'aux dernières lettres.\n",
    "        Tous les mots ont la même longueur \"\"\"\n",
    "    pass\n",
    "\n",
    "print(alterne(['cou', 'oui', 'non', 'air']))"
   ]
  },
  {
   "cell_type": "code",
   "execution_count": 5,
   "metadata": {
    "deletable": false,
    "editable": false
   },
   "outputs": [],
   "source": [
    "assert alterne(['cou', 'oui', 'non', 'air']) == 'conaouoiuinr'\n",
    "assert alterne(['ailes', 'agent', 'aimer']) == 'aaaigilemenestr'\n",
    "assert alterne(['au', 'du', 'va', 'ne', 'ni', 'le', 'un', 'tu']) == 'advnnlutuuaeienu'\n",
    "assert alterne(['spraie', 'uerpds']) == 'superrapides'\n"
   ]
  }
 ],
 "metadata": {
  "celltoolbar": "Format de la Cellule Texte Brut",
  "colab": {
   "name": "python4tp.ipynb",
   "provenance": [],
   "toc_visible": true
  },
  "kernelspec": {
   "display_name": "Python 3 (ipykernel)",
   "language": "python",
   "name": "python3"
  },
  "language_info": {
   "codemirror_mode": {
    "name": "ipython",
    "version": 3
   },
   "file_extension": ".py",
   "mimetype": "text/x-python",
   "name": "python",
   "nbconvert_exporter": "python",
   "pygments_lexer": "ipython3",
   "version": "3.10.12"
  }
 },
 "nbformat": 4,
 "nbformat_minor": 4
}
