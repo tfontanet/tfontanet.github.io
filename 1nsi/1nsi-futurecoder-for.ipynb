{
 "cells": [
  {
   "cell_type": "markdown",
   "metadata": {},
   "source": [
    "# Boucles `for`"
   ]
  },
  {
   "cell_type": "markdown",
   "metadata": {},
   "source": [
    "### Exercice 1\n",
    "Compléter puis exécuter le code ci-dessous de façon à ce qu'il *passe* tous les asserts :"
   ]
  },
  {
   "cell_type": "code",
   "execution_count": null,
   "metadata": {},
   "outputs": [],
   "source": [
    "def cache(mot):\n",
    "    \"\"\" Fonction qui renvoie autant de * qu'il y a de caractères dans mot \"\"\"\n",
    "    pass\n",
    "\n",
    "assert cache(\"jalousie\") == \"********\"\n",
    "assert cache(\"honte\") == \"*****\"\n",
    "assert cache(\"\") == \"\"\n",
    "assert cache(\"123 soleil\") == \"**********\""
   ]
  },
  {
   "cell_type": "markdown",
   "metadata": {},
   "source": [
    "### Exercice 2\n",
    "Compléter puis exécuter le code ci-dessous de façon à ce qu'il *passe* tous les asserts :"
   ]
  },
  {
   "cell_type": "code",
   "execution_count": null,
   "metadata": {},
   "outputs": [],
   "source": [
    "def épelle(mot):\n",
    "    \"\"\" Fonction qui ajoute un tiret après chaque caractères de mot \"\"\"\n",
    "    pass\n",
    "\n",
    "assert épelle(\"sport\") == \"s-p-o-r-t-\"\n",
    "assert épelle(\"musique\") == \"m-u-s-i-q-u-e-\"\n",
    "assert épelle(\"jeux\") == \"j-e-u-x-\"\n",
    "assert épelle(\"sieste\") == \"s-i-e-s-t-e-\""
   ]
  },
  {
   "cell_type": "markdown",
   "metadata": {},
   "source": [
    "### Exercice 3\n",
    "Compléter puis exécuter le code ci-dessous de façon à ce qu'il *passe* tous les asserts :"
   ]
  },
  {
   "cell_type": "code",
   "execution_count": null,
   "metadata": {},
   "outputs": [],
   "source": [
    "def répète(mot):\n",
    "    \"\"\" Fonction qui répète mot autant de fois qu'il y a de caractères dans mot \"\"\"\n",
    "    pass\n",
    "\n",
    "assert répète(\"Paris\") == \"Paris Paris Paris Paris Paris \"\n",
    "assert répète(\"Créteil\") == \"Créteil Créteil Créteil Créteil Créteil Créteil Créteil \"\n",
    "assert répète(\"Lyon\") == \"Lyon Lyon Lyon Lyon \"\n",
    "assert répète(\"\") == \"\""
   ]
  },
  {
   "cell_type": "markdown",
   "metadata": {},
   "source": [
    "### Exercice 4\n",
    "Compléter puis exécuter le code ci-dessous de façon à ce qu'il *passe* tous les asserts :"
   ]
  },
  {
   "cell_type": "code",
   "execution_count": null,
   "metadata": {},
   "outputs": [],
   "source": [
    "def echo(phrase):\n",
    "    \"\"\"Fonction qui renvoie une chaine de caractères ou tous les caractères de phrase sont doublés\"\"\"\n",
    "    pass\n",
    "\n",
    "assert echo(\"Bonjour à tous\") == \"BBoonnjjoouurr  àà  ttoouuss\"\n",
    "assert echo(\"Voici un script Python\") == \"VVooiiccii  uunn  ssccrriipptt  PPyytthhoonn\"\n",
    "assert echo(\"qui ne sert à rien\") == \"qquuii  nnee  sseerrtt  àà  rriieenn\"\n",
    "assert echo(\"mais qui fonctionne plutôt bien\") == \"mmaaiiss  qquuii  ffoonnccttiioonnnnee  pplluuttôôtt  bbiieenn\""
   ]
  },
  {
   "cell_type": "markdown",
   "metadata": {},
   "source": [
    "### Exercice 5\n",
    "Compléter puis exécuter le code ci-dessous de façon à ce qu'il *passe* tous les asserts :"
   ]
  },
  {
   "cell_type": "code",
   "execution_count": null,
   "metadata": {},
   "outputs": [],
   "source": [
    "def cache(mot):\n",
    "    \"\"\" Fonction qui renvoie autant de * qu'il y a de caractères dans mot \"\"\"\n",
    "    pass\n",
    "\n",
    "assert cache(\"jalousie\") == \"********\"\n",
    "assert cache(\"honte\") == \"*****\"\n",
    "assert cache(\"\") == \"\"\n",
    "assert cache(\"123 soleil\") == \"**********\""
   ]
  },
  {
   "cell_type": "markdown",
   "metadata": {},
   "source": [
    "### Exercice 6\n",
    "Compléter puis exécuter le code ci-dessous de façon à ce qu'il *passe* tous les asserts :"
   ]
  },
  {
   "cell_type": "code",
   "execution_count": null,
   "metadata": {},
   "outputs": [],
   "source": [
    "def entoure(mot):\n",
    "    \"\"\" Fonction qui entoure mot par autant de tirets qu'il y a de lettres dans mot\"\"\"\n",
    "    pass\n",
    "\n",
    "assert entoure(\"lune\") == '----lune----'\n",
    "assert entoure(\"soleil\") == '------soleil------'\n",
    "assert entoure(\"satellite\") == '---------satellite---------'\n",
    "assert entoure(\"\") == ''"
   ]
  },
  {
   "cell_type": "markdown",
   "metadata": {},
   "source": [
    "### Exercice 7\n",
    "Compléter puis exécuter le code ci-dessous de façon à ce qu'il *passe* tous les asserts :"
   ]
  },
  {
   "cell_type": "code",
   "execution_count": null,
   "metadata": {},
   "outputs": [],
   "source": [
    "def progressif(mot):\n",
    "    \"\"\" Fonction qui affiche mot progressivement\"\"\"\n",
    "    pass\n",
    "\n",
    "assert progressif(\"Renault\") == 'R Re Ren Rena Renau Renaul Renault '\n",
    "assert progressif(\"Peugeot\") == 'P Pe Peu Peug Peuge Peugeo Peugeot '\n",
    "assert progressif(\"Audi\") == 'A Au Aud Audi '\n",
    "assert progressif(\"BMW\") == 'B BM BMW '"
   ]
  },
  {
   "cell_type": "markdown",
   "metadata": {},
   "source": [
    "### Exercice 8\n",
    "Compléter puis exécuter le code ci-dessous de façon à ce qu'il *passe* tous les asserts :"
   ]
  },
  {
   "cell_type": "code",
   "execution_count": null,
   "metadata": {},
   "outputs": [],
   "source": [
    "def espaces_progressif(mot):\n",
    "    \"\"\" Fonction qui affiche les lettres de mot de plus en plus espacées\"\"\"\n",
    "    pass\n",
    "\n",
    "assert espaces_progressif(\"salut\") == 's a  l   u    t     '\n",
    "assert espaces_progressif(\"hello\") == 'h e  l   l    o     '\n",
    "assert espaces_progressif(\"ciao\") == 'c i  a   o    '\n",
    "assert espaces_progressif(\"shalom\") == 's h  a   l    o     m      '"
   ]
  }
 ],
 "metadata": {
  "celltoolbar": "Format de la Cellule Texte Brut",
  "colab": {
   "name": "python4tp.ipynb",
   "provenance": [],
   "toc_visible": true
  },
  "kernelspec": {
   "display_name": "Python 3 (ipykernel)",
   "language": "python",
   "name": "python3"
  },
  "language_info": {
   "codemirror_mode": {
    "name": "ipython",
    "version": 3
   },
   "file_extension": ".py",
   "mimetype": "text/x-python",
   "name": "python",
   "nbconvert_exporter": "python",
   "pygments_lexer": "ipython3",
   "version": "3.10.12"
  }
 },
 "nbformat": 4,
 "nbformat_minor": 4
}
